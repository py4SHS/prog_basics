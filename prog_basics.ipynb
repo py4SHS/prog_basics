{
 "cells": [
  {
   "cell_type": "markdown",
   "id": "cd793590",
   "metadata": {},
   "source": [
    "# Overview of the basics of programming in Python\n",
    "This is a very quick introduction to Python, enough to move on with data manipulation.\n",
    "\n",
    "To go further than that, I highly recommend you go through the Python [tutorial](https://docs.python.org/3/tutorial).\n",
    "\n",
    "**Pre-requisite**:\n",
    "- A working installation of Python>=3.8\n",
    "- A working installation of the corresponding version of pip\n",
    "\n",
    "> Note that throughout this tutorial you need to use the correct Python executable on your system"
   ]
  },
  {
   "cell_type": "markdown",
   "id": "7f33dc57",
   "metadata": {},
   "source": [
    "## Creating a virtual environment and running jupyter notebook\n",
    "\n",
    "All of the labs in this course will be done using Python and [Jupyter](https://jupyter.org/), a Web-based interactive development environment.\n",
    "\n",
    "\n",
    "To install Jupyter notebook, follow the following steps in your terminal:\n",
    "\n",
    "0. Go to the folder where you pulled the code using *git*.\n",
    "\n",
    "\n",
    "1. Install virtualenv to create a virtual environment (a self-contained directory tree that contains a Python installation for a particular version of Python, plus a number of additional packages.)\n",
    "\n",
    ">```python3 -m pip install virtualenv```\n",
    "\n",
    "2. Create a virtual environment.\n",
    "> ```virtualenv venv```\n",
    "\n",
    "3. Activate virtual environment\n",
    ">```source venv/bin/activate```\n",
    "\n",
    "4. Install required package for the session\n",
    "> ```pip install jupyter ipykernel```\n",
    "\n",
    "5. Create new kernel for jupyter\n",
    "> ```python -m ipykernel install --user --name math2_venv --display-name \"Introduction to IA\"```\n",
    "\n",
    "6. Launch jupyter notebook\n",
    "> ```jupyter notebook```"
   ]
  },
  {
   "cell_type": "markdown",
   "id": "26aa4fdc",
   "metadata": {},
   "source": [
    "### Exercice: installing your own package\n",
    "Install the **numpy** package in your environment and check that the import work by running:"
   ]
  },
  {
   "cell_type": "code",
   "execution_count": null,
   "id": "2626e202",
   "metadata": {},
   "outputs": [],
   "source": [
    "import numpy as np"
   ]
  },
  {
   "cell_type": "markdown",
   "id": "933c1807",
   "metadata": {},
   "source": [
    "### Exercice: play around with jupyter and the shortcuts\n",
    "- Create a new cell\n",
    "- Remove cell\n",
    "- Run cell"
   ]
  },
  {
   "cell_type": "markdown",
   "id": "d50e3031",
   "metadata": {},
   "source": [
    "## Python Syntax - Indentation\n",
    "\n",
    "Indentation is very important in Python, it impacts the meaning of your instructions.\n",
    "For example, the first instruction is correct whereas the second will throw a syntax error: \n"
   ]
  },
  {
   "cell_type": "code",
   "execution_count": null,
   "id": "24f5e82c",
   "metadata": {},
   "outputs": [],
   "source": [
    "if 5 > 2:\n",
    "  print(\"Five is greater than two!\")"
   ]
  },
  {
   "cell_type": "code",
   "execution_count": null,
   "id": "902a6a0b",
   "metadata": {},
   "outputs": [],
   "source": [
    "if 5 > 2:\n",
    "print(\"Five is greater than two!\")"
   ]
  },
  {
   "cell_type": "markdown",
   "id": "9a163a9a",
   "metadata": {},
   "source": [
    "## Pyhton syntax - Comments\n",
    "You may need to explain things in between your lines of codes, for this you can use comments.\n"
   ]
  },
  {
   "cell_type": "code",
   "execution_count": null,
   "id": "f8a530c3",
   "metadata": {},
   "outputs": [],
   "source": [
    "\n",
    "#This is a comment.\n",
    "print(\"Hello, World!\")\n",
    "\n",
    "print(\"Hello, World!\") #This is a comment.\n",
    "\n",
    "\"\"\"this\n",
    "is a \n",
    "multi lines\n",
    "comment\n",
    "\"\"\"\n",
    "print(\"Hello, World!\")"
   ]
  },
  {
   "cell_type": "markdown",
   "id": "1ff6ad8b",
   "metadata": {},
   "source": [
    "## Variables\n",
    "Variables are used to store data values. In Python you simply use the \"=\" sign.\n",
    "\n",
    "A variable can have a short name (like x and y) or a more descriptive name (age, firstname, total_volume). Rules for Python variables:\n",
    "\n",
    "    - A variable name must start with a letter or the underscore character\n",
    "    - A variable name cannot start with a number\n",
    "    - A variable name can only contain alpha-numeric characters and underscores (A-z, 0-9, and _ )\n",
    "    - A Variable names are case-sensitive (age, Age and AGE are three different variables)\n",
    "    - A variable name cannot be any of the Python keywords.\n"
   ]
  },
  {
   "cell_type": "code",
   "execution_count": null,
   "id": "f31c4705",
   "metadata": {},
   "outputs": [],
   "source": [
    "x = 5\n",
    "y = \"Jane\"\n",
    "print(x)\n",
    "print(y)"
   ]
  },
  {
   "cell_type": "markdown",
   "id": "953c7860",
   "metadata": {},
   "source": [
    "\n",
    "In this case, \"x\" will be recognized as an integer (int) and \"y\" will be recognized as a string (str).\n",
    "There are several kinds of types in Python."
   ]
  },
  {
   "cell_type": "markdown",
   "id": "e3d92dfb",
   "metadata": {},
   "source": [
    "## Data types in Python\n",
    "\n",
    "Python comes with the following built-in types:\n",
    "\n",
    "- Text Type:\t`str`\n",
    "\n",
    "- Numeric Types:\t`int, float, complex`\n",
    "\n",
    "- Sequence Types:\t`list, tuple, range`\n",
    "\n",
    "- Mapping Type:\t`dict`\n",
    "\n",
    "- Set Types:\t`set, frozenset`\n",
    "\n",
    "- Boolean Type:\t`bool`\n",
    "\n",
    "- Binary Types:\t`bytes, bytearray, memoryview`\n",
    "\n",
    "- None Type:\t`NoneType`\n",
    "\n",
    "To access the type of an object, call the `type` function on this object."
   ]
  },
  {
   "cell_type": "code",
   "execution_count": null,
   "id": "539bdb53",
   "metadata": {},
   "outputs": [],
   "source": [
    "my_string = \"string\"\n",
    "print(type(my_string))\n",
    "\n",
    "my_int = 5\n",
    "print(type(my_int))"
   ]
  },
  {
   "cell_type": "markdown",
   "id": "8fb9b27b",
   "metadata": {},
   "source": [
    "## Operators\n",
    "\n",
    "Operators are used to perform operations on variables and values.\n",
    "\n",
    "arithmetic operators: +, -, *, /, %, **, //\n",
    "\n",
    "assignment operators: =, +=, -=, *=, etc...\n",
    "\n",
    "comparison operators: ==, !=, >, <, >=, <="
   ]
  },
  {
   "cell_type": "code",
   "execution_count": null,
   "id": "69bf80d0",
   "metadata": {},
   "outputs": [],
   "source": [
    "print (3 + 5)"
   ]
  },
  {
   "cell_type": "code",
   "execution_count": null,
   "id": "22e2532c",
   "metadata": {},
   "outputs": [],
   "source": [
    "x = 4\n",
    "print(x)\n",
    "x += 3\n",
    "print(x)"
   ]
  },
  {
   "cell_type": "code",
   "execution_count": null,
   "id": "111b5d1c",
   "metadata": {},
   "outputs": [],
   "source": [
    "if x == 7:\n",
    "  print(\"you win!\")\n",
    "if x != 7:\n",
    "  print(\"you loose!\")"
   ]
  },
  {
   "cell_type": "markdown",
   "id": "62509ee9",
   "metadata": {},
   "source": [
    "logical operators:\n",
    "\n",
    "and : returns true if both statements are true (ex: x < 5 and  x < 10)\n",
    "\n",
    "or : returns True if one of the statements is true (ex: x < 5 or x < 4)\n",
    "\n",
    "not : Reverse the result, returns False if the result is true (ex: not(x < 5 and x < 10))"
   ]
  },
  {
   "cell_type": "markdown",
   "id": "7dd9a917",
   "metadata": {},
   "source": [
    "## if / else\n",
    "You can use this statement to test a condition and execute an instruction depending on the result"
   ]
  },
  {
   "cell_type": "code",
   "execution_count": null,
   "id": "1d97ba64",
   "metadata": {},
   "outputs": [],
   "source": [
    "a = 33\n",
    "b = 200\n",
    "if b > a:\n",
    "  print(\"b is greater than a\")\n",
    "elif a == b:\n",
    "  print(\"a and b are equal\")\n",
    "else:\n",
    "  print(\"a is greater than b\")\n"
   ]
  },
  {
   "cell_type": "markdown",
   "id": "87efad6a",
   "metadata": {},
   "source": [
    "## loops\n",
    "\n",
    "### While loops\n",
    "\n",
    "With the while loop we can execute a set of statements as long as a condition is true.\n",
    "\n"
   ]
  },
  {
   "cell_type": "code",
   "execution_count": null,
   "id": "ff1e6bd6",
   "metadata": {},
   "outputs": [],
   "source": [
    "i = 1\n",
    "while i < 6:\n",
    "  print(i)\n",
    "  i += 1"
   ]
  },
  {
   "cell_type": "markdown",
   "id": "17ae8728",
   "metadata": {},
   "source": [
    "With the break statement we can stop the loop even if the while condition is true:"
   ]
  },
  {
   "cell_type": "code",
   "execution_count": null,
   "id": "9e3d5fbc",
   "metadata": {},
   "outputs": [],
   "source": [
    "i = 1\n",
    "while i < 6:\n",
    "  print(i)\n",
    "  if i == 3:\n",
    "    break\n",
    "  i += 1"
   ]
  },
  {
   "cell_type": "markdown",
   "id": "0d875f21",
   "metadata": {},
   "source": [
    "### For loops\n",
    "A for loop is used for iterating over a sequence (that is either a list, a tuple, a dictionary, a set, or a string).\n",
    "With the for loop we can execute a set of statements, once for each item in a list, tuple, set etc."
   ]
  },
  {
   "cell_type": "code",
   "execution_count": null,
   "id": "2098c4db",
   "metadata": {},
   "outputs": [],
   "source": [
    "fruits = [\"apple\", \"banana\", \"cherry\"]\n",
    "for x in fruits:\n",
    "  print(x)\n",
    "\n",
    "for x in \"banana\":\n",
    "  print(x)"
   ]
  },
  {
   "cell_type": "markdown",
   "id": "69c3b2bf",
   "metadata": {},
   "source": [
    "With the break statement we can stop the loop before it has looped through all the items"
   ]
  },
  {
   "cell_type": "code",
   "execution_count": null,
   "id": "0eb9ab6f",
   "metadata": {},
   "outputs": [],
   "source": [
    "fruits = [\"apple\", \"banana\", \"cherry\"]\n",
    "for x in fruits:\n",
    "  print(x)\n",
    "  if x == \"banana\":\n",
    "    break"
   ]
  },
  {
   "cell_type": "markdown",
   "id": "458177c3",
   "metadata": {},
   "source": [
    "Using the range() function"
   ]
  },
  {
   "cell_type": "code",
   "execution_count": null,
   "id": "7af5cfe1",
   "metadata": {},
   "outputs": [],
   "source": [
    "for x in range(6):\n",
    "  print(x)"
   ]
  },
  {
   "cell_type": "markdown",
   "id": "fd5e14db",
   "metadata": {},
   "source": [
    "## Creating functions\n",
    "Learn more about functions in Python [here](https://docs.python.org/3/tutorial/controlflow.html#defining-functions).\n",
    "\n",
    "In Python a function is defined using the `def` keyword. "
   ]
  },
  {
   "cell_type": "code",
   "execution_count": null,
   "id": "39700e42",
   "metadata": {},
   "outputs": [],
   "source": [
    "def print_hello_world():\n",
    "    print(\"Hello world !\")"
   ]
  },
  {
   "cell_type": "markdown",
   "id": "bc3b50b8",
   "metadata": {},
   "source": [
    "To call a function, use the function name followed by parenthesis."
   ]
  },
  {
   "cell_type": "code",
   "execution_count": null,
   "id": "0116947f",
   "metadata": {},
   "outputs": [],
   "source": [
    "print_hello_world()"
   ]
  },
  {
   "cell_type": "markdown",
   "id": "5611733c",
   "metadata": {},
   "source": [
    "The return of a function is specified using the `return` keyword."
   ]
  },
  {
   "cell_type": "code",
   "execution_count": null,
   "id": "e7a07804",
   "metadata": {},
   "outputs": [],
   "source": [
    "def return_hello_world():\n",
    "    return \"hello world !\"\n",
    "\n",
    "hello_world = return_hello_world()\n",
    "print(hello_world)"
   ]
  },
  {
   "cell_type": "markdown",
   "id": "4c8c508c",
   "metadata": {},
   "source": [
    "Arguments are specified after the function name, inside the parentheses. You can add as many arguments as you want, just separate them with a comma."
   ]
  },
  {
   "cell_type": "markdown",
   "id": "6d7837ac",
   "metadata": {},
   "source": [
    "### Exercices:\n",
    "\n",
    "1. Create a function that takes 2 integers and return a string that says which one is greater than the other or if they are equal\n",
    "\n",
    "\n",
    "2. Create the square root function.\n",
    "\n",
    "\n",
    "3. Create a function that returns the sum of two floats.\n"
   ]
  },
  {
   "cell_type": "code",
   "execution_count": null,
   "id": "0f5e7860",
   "metadata": {},
   "outputs": [],
   "source": [
    "# Question 2\n",
    "\n",
    "def sqrt_root(x: float) -> float:\n",
    "\n",
    "\n",
    "# Question 3\n",
    "def sum_floats(a: float, b: float) -> float:"
   ]
  },
  {
   "cell_type": "markdown",
   "id": "c2495a68",
   "metadata": {},
   "source": [
    "## Basic data structures\n",
    "Learn more about data structures [here](https://docs.python.org/3/tutorial/datastructures.html#)."
   ]
  },
  {
   "cell_type": "markdown",
   "id": "b9a3e3fd",
   "metadata": {},
   "source": [
    "### Lists: A built-in Python sequence\n",
    "Lists are used to store multiple items in a single variable.\n",
    "\n",
    "List items are ordered, changeable, and allow duplicate values.\n",
    "\n",
    "List items are indexed, the first item has index [0], the second item has index [1] etc."
   ]
  },
  {
   "cell_type": "code",
   "execution_count": null,
   "id": "5389383a",
   "metadata": {},
   "outputs": [],
   "source": [
    "my_list = [\"test\", 1, \"titi\"]\n",
    "\n",
    "print(my_list[0])\n",
    "print(my_list[2])"
   ]
  },
  {
   "cell_type": "markdown",
   "id": "a0bb6e46",
   "metadata": {},
   "source": [
    "\n",
    "Negative indexing means start from the end\n",
    "-1 refers to the last item, -2 refers to the second last item etc."
   ]
  },
  {
   "cell_type": "code",
   "execution_count": null,
   "id": "dc82137a",
   "metadata": {},
   "outputs": [],
   "source": [
    "my_list = [\"pears\", \"apples\", \"bananas\"]\n",
    "\n",
    "print(my_list[-1])\n",
    "print(my_list[-2])"
   ]
  },
  {
   "cell_type": "markdown",
   "id": "2490c860",
   "metadata": {},
   "source": [
    "\n",
    "Range of Indexes\n",
    "\n",
    "You can specify a range of indexes by specifying where to start and where to end the range.\n",
    "When specifying a range, the return value will be a new list with the specified items."
   ]
  },
  {
   "cell_type": "code",
   "execution_count": null,
   "id": "a361d77b",
   "metadata": {},
   "outputs": [],
   "source": [
    "\n",
    "thislist = [\"apple\", \"banana\", \"cherry\", \"orange\", \"kiwi\", \"melon\", \"mango\"]\n",
    "\n",
    "print(thislist[2:5])\n",
    "print(thislist[:4])\n",
    "print(thislist[2:])"
   ]
  },
  {
   "cell_type": "markdown",
   "id": "8e216d72",
   "metadata": {},
   "source": [
    "\n",
    "Check if an item exists in the list: "
   ]
  },
  {
   "cell_type": "code",
   "execution_count": null,
   "id": "bbad83c1",
   "metadata": {},
   "outputs": [],
   "source": [
    "\n",
    "thislist = [\"apple\", \"banana\", \"cherry\"]\n",
    "if \"apple\" in thislist:\n",
    "  print(\"Yes, 'apple' is in the fruits list\")"
   ]
  },
  {
   "cell_type": "markdown",
   "id": "98f5a9c4",
   "metadata": {},
   "source": [
    "\n",
    "Find the length of a list"
   ]
  },
  {
   "cell_type": "code",
   "execution_count": null,
   "id": "4ab6c14b",
   "metadata": {},
   "outputs": [],
   "source": [
    "print(len(thislist))"
   ]
  },
  {
   "cell_type": "markdown",
   "id": "891906d6",
   "metadata": {},
   "source": [
    "\n",
    "Change an item value:"
   ]
  },
  {
   "cell_type": "code",
   "execution_count": null,
   "id": "284dfb3c",
   "metadata": {},
   "outputs": [],
   "source": [
    "\n",
    "thislist = [\"apple\", \"banana\", \"cherry\"]\n",
    "thislist[1] = \"blackcurrant\"\n",
    "print(thislist)"
   ]
  },
  {
   "cell_type": "markdown",
   "id": "eea39281",
   "metadata": {},
   "source": [
    "\n",
    "insert items:"
   ]
  },
  {
   "cell_type": "code",
   "execution_count": null,
   "id": "ed9e3b2b",
   "metadata": {},
   "outputs": [],
   "source": [
    "\n",
    "thislist = [\"apple\", \"banana\", \"cherry\"]\n",
    "thislist.insert(2, \"watermelon\")\n",
    "print(thislist)"
   ]
  },
  {
   "cell_type": "markdown",
   "id": "cdd535db",
   "metadata": {},
   "source": [
    "\n",
    "append items:"
   ]
  },
  {
   "cell_type": "code",
   "execution_count": null,
   "id": "3e2e396a",
   "metadata": {},
   "outputs": [],
   "source": [
    "\n",
    "\n",
    "thislist = [\"apple\", \"banana\", \"cherry\"]\n",
    "thislist.append(\"orange\")\n",
    "print(thislist)"
   ]
  },
  {
   "cell_type": "markdown",
   "id": "c0cb7aec",
   "metadata": {},
   "source": [
    "remove items:"
   ]
  },
  {
   "cell_type": "code",
   "execution_count": null,
   "id": "46fd5190",
   "metadata": {},
   "outputs": [],
   "source": [
    "\n",
    "thislist = [\"apple\", \"banana\", \"cherry\"]\n",
    "thislist.remove(\"banana\")\n",
    "print(thislist)\n",
    "thislist = [\"apple\", \"banana\", \"cherry\"]\n",
    "thislist.pop(2)\n",
    "print(thislist)"
   ]
  },
  {
   "cell_type": "markdown",
   "id": "ba694b04",
   "metadata": {},
   "source": [
    "\n",
    "loop through a list:"
   ]
  },
  {
   "cell_type": "code",
   "execution_count": null,
   "id": "26d4a1c6",
   "metadata": {},
   "outputs": [],
   "source": [
    "thislist = [\"apple\", \"banana\", \"cherry\", \"mango\", \"lemon\", \"orange\"]\n",
    "for x in thislist:\n",
    "  print(x)\n",
    "print(\"--------\")\n",
    "for i in range(1,4):\n",
    "  print(thislist[i])"
   ]
  },
  {
   "cell_type": "markdown",
   "id": "89cd8af8",
   "metadata": {},
   "source": [
    "#### Exercices\n",
    "Read the first paragraph on list of [data structures](https://docs.python.org/3/tutorial/datastructures.html#), and:\n",
    "\n",
    "1. Create a function that returns the square root of each value in a list.\n",
    "2. Create a function that removes the first and last element of a list."
   ]
  },
  {
   "cell_type": "code",
   "execution_count": null,
   "id": "53bd3d1b",
   "metadata": {},
   "outputs": [],
   "source": [
    "from typing import List\n",
    "\n",
    "def list_power(input_list: List[float], power: int):\n",
    "    \"\"\"\n",
    "    Gets as input a list of numerical values and outputs the list of its square root value.\n",
    "    \n",
    "    Example:\n",
    "    sqrt_root([1, 3, 4], 2) outputs [1, 9, 16]\n",
    "    \"\"\""
   ]
  },
  {
   "cell_type": "code",
   "execution_count": null,
   "id": "2f771990",
   "metadata": {},
   "outputs": [],
   "source": [
    "def crop_list(input_list):\n",
    "    \"\"\"Gets as input a list of values and outputs the list without the first and last elements.\n",
    "    \n",
    "    Example:\n",
    "    crop_list([1, \"hello\", 3, 4, \"world\"]) outputs [\"hello\", 3, 4])\n",
    "    \"\"\""
   ]
  },
  {
   "cell_type": "markdown",
   "id": "c8c116d1",
   "metadata": {},
   "source": [
    "### Dictionaries\n",
    "\n",
    "Dictionaries are used to store data values in key:value pairs.\n",
    "\n",
    "A dictionary is a collection which is ordered, changeable and do not allow duplicates.\n",
    "\n",
    "Dictionaries are written with curly brackets, and have keys and values."
   ]
  },
  {
   "cell_type": "code",
   "execution_count": null,
   "id": "d709a23e",
   "metadata": {},
   "outputs": [],
   "source": [
    "my_dict = {\n",
    "    \"apple\": 1, # apple is the key, 1 is the value\n",
    "    \"banana\": 3,\n",
    "    \"pear\": 4\n",
    "}\n",
    "# Assign new value\n",
    "my_dict[\"peach\"] = 4\n",
    "\n",
    "print(my_dict)\n",
    "\n",
    "# Change existing value\n",
    "my_dict[\"banana\"] = 5\n",
    "\n",
    "print(my_dict)"
   ]
  },
  {
   "cell_type": "markdown",
   "id": "e71ee79c",
   "metadata": {},
   "source": [
    "#### Exercices: \n",
    "Read the paragraph concerning dictionaries [here](https://docs.python.org/3/tutorial/datastructures.html#dictionaries) and solve the following exercices:\n",
    "\n",
    "1. Create a function that adds +1 to every value in a dictionary\n",
    "2. Create a function that inverts every key of a dictionary."
   ]
  },
  {
   "cell_type": "code",
   "execution_count": null,
   "id": "7106f63e",
   "metadata": {},
   "outputs": [],
   "source": [
    "def add_one_to_dict(input_dict):\n",
    "    \"\"\"Gets as input a dict with numerical values and adds + 1 to every value.\n",
    "    \n",
    "    Example:\n",
    "    {\"banana\": 2, \"peach\": 3} outputs {\"banana\": 3, \"peach\": 4}\n",
    "    \"\"\"\n",
    "    # Solution 1\n",
    "#     for k, v in input_dict.items():\n",
    "#         input_dict[k] = v + 1\n",
    "#     return input_dict\n",
    "    # Solution 2\n",
    "    return {k: v + 1 for k, v in input_dict.items()}"
   ]
  },
  {
   "cell_type": "code",
   "execution_count": null,
   "id": "3b7f8fe6",
   "metadata": {},
   "outputs": [],
   "source": [
    "def invert_dict_key(input_dict):\n",
    "    \"\"\"Inverts the key of a dictionary.\n",
    "    \n",
    "    Example:\n",
    "    {\"banana\": 2, \"peach\": 3} outputs {\"ananab\": 2, \"hcaep\": 3}\n",
    "    \"\"\"\n",
    "    new_dict = {}\n",
    "    for k, v in input_dict.items():\n",
    "        new_dict[k[::-1]] = v\n",
    "    return new_dict"
   ]
  },
  {
   "cell_type": "markdown",
   "id": "850b7f0a",
   "metadata": {},
   "source": [
    "### Tuples\n",
    "A tuple consists of a number of values separated by commas.\n",
    "\n",
    "Tuples are immutable, and usually contain a heterogeneous sequence of elements that are accessed via unpacking."
   ]
  },
  {
   "cell_type": "code",
   "execution_count": null,
   "id": "85b91452",
   "metadata": {},
   "outputs": [],
   "source": [
    "x, y, z = (1, 2, 3)\n",
    "print(x)\n",
    "print(y)\n",
    "print(z)"
   ]
  },
  {
   "cell_type": "markdown",
   "id": "b9926e35",
   "metadata": {},
   "source": [
    "### Sets"
   ]
  },
  {
   "cell_type": "markdown",
   "id": "872bb566",
   "metadata": {},
   "source": [
    "A set is an unordered collection with no duplicate elements\n",
    "\n",
    "Set objects also support mathematical operations like union, intersection, difference, and symmetric difference."
   ]
  },
  {
   "cell_type": "code",
   "execution_count": null,
   "id": "10ccd42c",
   "metadata": {},
   "outputs": [],
   "source": [
    "my_set = {\"banana\", \"banana\", \"apple\"}\n",
    "print(my_set)"
   ]
  },
  {
   "cell_type": "markdown",
   "id": "f6a9382e",
   "metadata": {},
   "source": [
    "#### Exercices\n",
    "Read the paragraph regarding sets [here](https://docs.python.org/3/tutorial/datastructures.html#sets) and complete the following exercice:\n",
    "\n",
    "1. Create a function that computes the number of distinct letters within two words"
   ]
  },
  {
   "cell_type": "code",
   "execution_count": null,
   "id": "9503eef4",
   "metadata": {},
   "outputs": [],
   "source": [
    "def invert_compute_distinct(word_1, word_2):\n",
    "    \"\"\"Compute the distinct number of letters of word_1 and word_2.\n",
    "    \n",
    "    Example:\n",
    "    invert_compute_distinct(banana, apple) = 6\n",
    "    \"\"\"\n",
    "    # 1ere comprehension de la question\n",
    "#     return set(word_1 + word_2)\n",
    "    # 2eme comprehension\n",
    "    set_1 = set(word_1)\n",
    "    set_2 = set(word_2)\n",
    "    return len((set_1 - set_2) | (set_2 - set_1))"
   ]
  },
  {
   "cell_type": "markdown",
   "id": "e2ae1b3e",
   "metadata": {},
   "source": [
    "## Basic OOP\n",
    "Learn more about OOP with Python [here](https://docs.python.org/3/tutorial/classes.html).\n",
    "\n",
    "Classes provide a means of bundling data and functionality together. Creating a new class creates a new type of object, allowing new instances of that type to be made. Each class instance can have attributes attached to it for maintaining its state. Class instances can also have methods (defined by its class) for modifying its state."
   ]
  },
  {
   "cell_type": "code",
   "execution_count": null,
   "id": "aa8cd1d6",
   "metadata": {},
   "outputs": [],
   "source": [
    "class MyExample:\n",
    "    \"\"\"\n",
    "    Example class.\n",
    "    \"\"\"\n",
    "    def __init__(self, attribute_example):\n",
    "        \"\"\"\n",
    "        Initialize an object of class MyExample.\n",
    "        \"\"\"\n",
    "        self.attribute_example = attribute_example\n",
    "        \n",
    "    def demo_method(self):\n",
    "        \"\"\"\n",
    "        Demonstration method.\n",
    "        \"\"\"\n",
    "        print(\"this is a demonstration !\")\n",
    "        \n",
    "    @staticmethod\n",
    "    def static():\n",
    "        \"\"\"\"\"\""
   ]
  },
  {
   "cell_type": "code",
   "execution_count": null,
   "id": "95c6bfb3",
   "metadata": {},
   "outputs": [],
   "source": [
    "example_object = MyExample(attribute_example=2)\n",
    "example_object.demo_method()"
   ]
  },
  {
   "cell_type": "markdown",
   "id": "1efc424b",
   "metadata": {},
   "source": [
    "### Exercices\n",
    "Using the OOP tutorial [here](https://docs.python.org/3/tutorial/classes.html), write a class:\n",
    "- Called `Human` \n",
    "- With an attribute `age` and `name` \n",
    "- With a method `speak` that prints an input string.\n"
   ]
  },
  {
   "cell_type": "code",
   "execution_count": null,
   "id": "44da009f",
   "metadata": {},
   "outputs": [],
   "source": [
    "class Human:\n",
    "    \"\"\"Human class.\n",
    "    \"\"\"\n",
    "    def __init__(self, age, name):\n",
    "        self.age = age\n",
    "        self.name = name\n",
    "        \n",
    "    def speak(self, speech=\"default\"):\n",
    "        print(speech)\n",
    "        print(f\"My age is {self.age}\")\n",
    "        print(\"My age is \" + str(self.age))"
   ]
  },
  {
   "cell_type": "code",
   "execution_count": null,
   "id": "3deb2211",
   "metadata": {},
   "outputs": [],
   "source": [
    "titi = Human(10, \"titi\")\n",
    "\n",
    "titi.speak()"
   ]
  },
  {
   "cell_type": "markdown",
   "id": "1ecee3b8",
   "metadata": {},
   "source": [
    "## mathplotlib\n",
    "WIP"
   ]
  }
 ],
 "metadata": {
  "kernelspec": {
   "display_name": "Python 3 (ipykernel)",
   "language": "python",
   "name": "python3"
  },
  "language_info": {
   "codemirror_mode": {
    "name": "ipython",
    "version": 3
   },
   "file_extension": ".py",
   "mimetype": "text/x-python",
   "name": "python",
   "nbconvert_exporter": "python",
   "pygments_lexer": "ipython3",
   "version": "3.9.6"
  }
 },
 "nbformat": 4,
 "nbformat_minor": 5
}
